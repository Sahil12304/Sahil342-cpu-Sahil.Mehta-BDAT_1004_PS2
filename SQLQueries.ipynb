{
 "cells": [
  {
   "cell_type": "markdown",
   "id": "824516f2",
   "metadata": {},
   "source": [
    "Write sql queries for the below:\n",
    "\n",
    "Let the database table be known by name: 'Seasonal_Report'\n",
    "\n",
    "a) All the temperature data\n",
    "    \n",
    "    select Temperature from Seasonal_Report\n",
    "   \n",
    "b) All Cities without repetation\n",
    "   \n",
    "    select distinct City from Seasonal_Report\n",
    "   \n",
    "   \n",
    "   \n",
    "c) All records for India\n",
    "\n",
    "    select * from Seasonal_Report  where Country='India' \n",
    "    \n",
    "d) All fall records\n",
    "    \n",
    "    select * from Seasonal_Report where Season='Fall'\n",
    "    \n",
    "e) The city ,country and season for which rainfall is between 200 and 400\n",
    "    \n",
    "    select City, Country, Season from Seasonal_Report where Rainfall between 200 and 400.\n",
    "   \n",
    "f)  The city, country for which average fall temperature is above 20 degree in increasing temperature order.\n",
    "   \n",
    "    select City, Country from Seasonal_Report where (select Fall from Seasonal_Report where Temperature < 20) order by \n",
    "    Temperature asc\n",
    "    \n",
    "g)  The total annual rainfall for Cairo\n",
    "     \n",
    "    select SUM(Rainfall) from Seasonal_Report where City='Cairo'\n",
    "    \n",
    "h)  The total rainfall for each season.\n",
    "\n",
    "    select SUM(Rainfall) from Seasonal_Report where Season='Winter' and Season='Summer' and Season='Spring' and Season='Fall'\n",
    "    \n",
    "    \n",
    "   \n",
    "   "
   ]
  }
 ],
 "metadata": {
  "kernelspec": {
   "display_name": "Python 3 (ipykernel)",
   "language": "python",
   "name": "python3"
  },
  "language_info": {
   "codemirror_mode": {
    "name": "ipython",
    "version": 3
   },
   "file_extension": ".py",
   "mimetype": "text/x-python",
   "name": "python",
   "nbconvert_exporter": "python",
   "pygments_lexer": "ipython3",
   "version": "3.9.12"
  }
 },
 "nbformat": 4,
 "nbformat_minor": 5
}
