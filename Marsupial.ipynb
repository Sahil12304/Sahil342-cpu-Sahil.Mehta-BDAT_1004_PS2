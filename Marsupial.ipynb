{
 "cells": [
  {
   "cell_type": "code",
   "execution_count": null,
   "id": "dd7c0337",
   "metadata": {},
   "outputs": [],
   "source": [
    "#Solution 3(a)\n",
    "class Marsupial:\n",
    "    List=[]\n",
    "    str1=' '\n",
    "    \n",
    "    def put_in_pouch(str1):\n",
    "        List.append(str1)\n",
    "     \n",
    "    def pouch_contents():\n",
    "        print(List)\n",
    "        \n",
    "                       \n",
    "\n",
    "m=Marsupial()\n",
    "m.put_in_pouch('doll')\n",
    "m.put_in_pouch('firetruck')\n",
    "m.put_in_pouch('kitten')\n",
    "m.pouch_contents()\n",
    "\n",
    "\n",
    "class Kangaroo(Marsupial):\n",
    "    def _init_(self, x, y):\n",
    "        Marsupial._init_(self)\n",
    "        self.x = x\n",
    "        self.y = y\n",
    "    def jump(self, dx, dy): # new method\n",
    "        self.x += dx\n",
    "        self.y += dy\n",
    "    def _str(self): # overload the __str_ operator\n",
    "        return f\"I am a Kangaroo located at coordinates ({self.x, self.y})\"\n",
    "            \n",
    "        \n",
    "    "
   ]
  },
  {
   "cell_type": "code",
   "execution_count": null,
   "id": "b87b1f0c",
   "metadata": {},
   "outputs": [],
   "source": []
  },
  {
   "cell_type": "code",
   "execution_count": null,
   "id": "a9b61475",
   "metadata": {},
   "outputs": [],
   "source": []
  },
  {
   "cell_type": "code",
   "execution_count": null,
   "id": "2ad6223e",
   "metadata": {},
   "outputs": [],
   "source": []
  },
  {
   "cell_type": "code",
   "execution_count": null,
   "id": "62297279",
   "metadata": {},
   "outputs": [],
   "source": []
  },
  {
   "cell_type": "code",
   "execution_count": null,
   "id": "243bd144",
   "metadata": {},
   "outputs": [],
   "source": []
  }
 ],
 "metadata": {
  "kernelspec": {
   "display_name": "Python 3 (ipykernel)",
   "language": "python",
   "name": "python3"
  },
  "language_info": {
   "codemirror_mode": {
    "name": "ipython",
    "version": 3
   },
   "file_extension": ".py",
   "mimetype": "text/x-python",
   "name": "python",
   "nbconvert_exporter": "python",
   "pygments_lexer": "ipython3",
   "version": "3.9.12"
  }
 },
 "nbformat": 4,
 "nbformat_minor": 5
}
