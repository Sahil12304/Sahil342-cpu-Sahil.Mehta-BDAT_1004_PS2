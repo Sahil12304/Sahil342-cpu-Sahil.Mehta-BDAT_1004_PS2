{
 "cells": [
  {
   "cell_type": "code",
   "execution_count": 1,
   "id": "28792d9a",
   "metadata": {},
   "outputs": [
    {
     "name": "stdout",
     "output_type": "stream",
     "text": [
      "file midterm.py not found\n"
     ]
    },
    {
     "data": {
      "text/plain": [
       "123"
      ]
     },
     "execution_count": 1,
     "metadata": {},
     "output_type": "execute_result"
    }
   ],
   "source": [
    "infile= open('filelength.txt','r')\n",
    "content=infile.read()\n",
    "\n",
    "try:\n",
    "    \n",
    "    def filelength(infile):\n",
    "        \n",
    "        \n",
    "        return len(content)\n",
    "    \n",
    "    if not type(infile) is file:\n",
    "        raise Exception (\"file midterm.py not found\")\n",
    "         \n",
    "    \n",
    "    \n",
    "    \n",
    "\n",
    "\n",
    "except:\n",
    "    print('file midterm.py not found')\n",
    "    \n",
    "    \n",
    "\n",
    "filelength(infile)\n",
    "filelength('midterm.py')"
   ]
  },
  {
   "cell_type": "code",
   "execution_count": null,
   "id": "cda63f97",
   "metadata": {},
   "outputs": [],
   "source": []
  }
 ],
 "metadata": {
  "kernelspec": {
   "display_name": "Python 3 (ipykernel)",
   "language": "python",
   "name": "python3"
  },
  "language_info": {
   "codemirror_mode": {
    "name": "ipython",
    "version": 3
   },
   "file_extension": ".py",
   "mimetype": "text/x-python",
   "name": "python",
   "nbconvert_exporter": "python",
   "pygments_lexer": "ipython3",
   "version": "3.9.12"
  }
 },
 "nbformat": 4,
 "nbformat_minor": 5
}
