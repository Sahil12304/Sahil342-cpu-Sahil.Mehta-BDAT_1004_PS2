{
 "cells": [
  {
   "cell_type": "code",
   "execution_count": 30,
   "id": "d5a264b5",
   "metadata": {},
   "outputs": [
    {
     "name": "stdout",
     "output_type": "stream",
     "text": [
      "['THE', 'QUICK', 'BROWN', 'FOX', 'JUMPS', 'OVER', 'THE ', 'LAZY', 'DOG']\n",
      "\n",
      "['the', 'quick', 'brown', 'fox', 'jumps', 'over', 'the ', 'lazy', 'dog']\n",
      "\n",
      "[3, 5, 5, 3, 5, 4, 4, 4, 3]\n",
      "\n",
      "['quick', 'brown', 'jumps', 'over', 'the ', 'lazy']\n"
     ]
    }
   ],
   "source": [
    "list=['the','quick','brown','fox','jumps','over', 'the ','lazy','dog']\n",
    "\n",
    "\n",
    "list1=[i.upper() for i in list]\n",
    "print(list1)\n",
    "   \n",
    "    \n",
    "print()    \n",
    "list2=list\n",
    "print(list2)\n",
    "print()\n",
    "\n",
    "list3=[len(list[i]) for i in range(len(list))]\n",
    "print(list3)\n",
    "print()\n",
    "\n",
    "# the list of words in list containing four or more characters\n",
    "\n",
    "list4=[i for i in list if len(i)>=4]\n",
    "print(list4)\n",
    "\n",
    "\n",
    "\n",
    "\n",
    "\n"
   ]
  },
  {
   "cell_type": "code",
   "execution_count": null,
   "id": "c5140bff",
   "metadata": {},
   "outputs": [],
   "source": []
  },
  {
   "cell_type": "code",
   "execution_count": null,
   "id": "df646483",
   "metadata": {},
   "outputs": [],
   "source": []
  },
  {
   "cell_type": "code",
   "execution_count": null,
   "id": "4f3c71e3",
   "metadata": {},
   "outputs": [],
   "source": []
  }
 ],
 "metadata": {
  "kernelspec": {
   "display_name": "Python 3 (ipykernel)",
   "language": "python",
   "name": "python3"
  },
  "language_info": {
   "codemirror_mode": {
    "name": "ipython",
    "version": 3
   },
   "file_extension": ".py",
   "mimetype": "text/x-python",
   "name": "python",
   "nbconvert_exporter": "python",
   "pygments_lexer": "ipython3",
   "version": "3.9.12"
  }
 },
 "nbformat": 4,
 "nbformat_minor": 5
}
